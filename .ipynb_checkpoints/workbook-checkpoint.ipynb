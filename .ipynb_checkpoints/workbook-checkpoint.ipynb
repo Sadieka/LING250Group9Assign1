{
 "cells": [
  {
   "cell_type": "markdown",
   "id": "08138342",
   "metadata": {},
   "source": [
    "Workbook"
   ]
  },
  {
   "cell_type": "code",
   "execution_count": 1,
   "id": "ee6657f9",
   "metadata": {},
   "outputs": [],
   "source": [
    "import nltk\n",
    "import re\n",
    "import os"
   ]
  },
  {
   "cell_type": "code",
   "execution_count": 3,
   "id": "ef978da6",
   "metadata": {},
   "outputs": [],
   "source": [
    "from nltk.corpus import PlaintextCorpusReader\n",
    "from nltk.probability import FreqDist"
   ]
  },
  {
   "cell_type": "code",
   "execution_count": 5,
   "id": "80cd432f",
   "metadata": {},
   "outputs": [],
   "source": [
    "#load texts\n",
    "\n",
    "corpusDirectory = \"./Corpus_Data\"\n",
    "corpus = PlaintextCorpusReader(corpusDirectory, \".*\")\n",
    "\n"
   ]
  },
  {
   "cell_type": "code",
   "execution_count": null,
   "id": "aabab954",
   "metadata": {},
   "outputs": [],
   "source": []
  }
 ],
 "metadata": {
  "kernelspec": {
   "display_name": "Python 3 (ipykernel)",
   "language": "python",
   "name": "python3"
  },
  "language_info": {
   "codemirror_mode": {
    "name": "ipython",
    "version": 3
   },
   "file_extension": ".py",
   "mimetype": "text/x-python",
   "name": "python",
   "nbconvert_exporter": "python",
   "pygments_lexer": "ipython3",
   "version": "3.9.15"
  }
 },
 "nbformat": 4,
 "nbformat_minor": 5
}
