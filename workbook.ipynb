{
 "cells": [
  {
   "cell_type": "markdown",
   "id": "08138342",
   "metadata": {},
   "source": [
    "Workbook"
   ]
  },
  {
   "cell_type": "code",
   "execution_count": 3,
   "id": "ee6657f9",
   "metadata": {},
   "outputs": [],
   "source": [
    "import nltk\n",
    "import re\n",
    "import os"
   ]
  },
  {
   "cell_type": "code",
   "execution_count": 4,
   "id": "ef978da6",
   "metadata": {},
   "outputs": [],
   "source": [
    "from nltk.corpus import PlaintextCorpusReader\n",
    "from nltk.probability import FreqDist"
   ]
  },
  {
   "cell_type": "code",
   "execution_count": 5,
   "id": "80cd432f",
   "metadata": {},
   "outputs": [],
   "source": [
    "#load texts\n",
    "corpusDirectory = \"./Corpus_Data\"\n",
    "corpus = PlaintextCorpusReader(corpusDirectory, \".*\")\n",
    "\n",
    "#load texts into nltk word list\n",
    "chomskyWords = corpus.words(\"ChomskyInterview.txt\")\n",
    "eurogamerWords = corpus.words(\"Eurogamer_Corpus.txt\")\n",
    "wozWords = corpus.words(\"WOZScript.txt\")\n"
   ]
  },
  {
   "cell_type": "code",
   "execution_count": 6,
   "id": "aabab954",
   "metadata": {},
   "outputs": [
    {
     "name": "stdout",
     "output_type": "stream",
     "text": [
      "Frequency Distribution of words beginning with vowels in the texts\n",
      "Chomsky Interview\n",
      "[('a', 267), ('and', 217), ('are', 72), ('about', 68), ('as', 46), ('at', 29), ('all', 28), ('an', 27), ('any', 19), ('american', 15)]\n",
      "[('ezra', 35), ('even', 15), ('example', 7), ('every', 7), ('end', 6), ('early', 6), ('economic', 6), ('everything', 6), ('ever', 5), ('essentially', 5)]\n",
      "[('it', 261), ('in', 188), ('is', 158), ('i', 153), ('if', 54), ('into', 19), ('industry', 14), ('idea', 8), ('international', 7), ('its', 6)]\n",
      "[('of', 356), ('on', 55), ('or', 31), ('one', 31), ('out', 31), ('our', 24), ('other', 18), ('over', 16), ('own', 12), ('others', 7)]\n",
      "[('up', 18), ('us', 16), ('united', 8), ('used', 7), ('under', 7), ('understand', 6), ('use', 5), ('u', 5), ('using', 4), ('unfortunately', 4)]\n",
      " \n",
      "Eurogamer Reviews\n",
      "[('a', 183), ('and', 175), ('an', 37), ('as', 33), ('are', 30), ('at', 20), ('all', 15), ('army', 10), ('about', 9), ('also', 8)]\n",
      "[('engage', 18), ('even', 15), ('each', 14), ('every', 13), ('estelle', 10), ('emblem', 10), ('enemy', 6), ('end', 5), ('entirely', 4), ('enemies', 4)]\n",
      "[('in', 78), ('it', 70), ('i', 69), ('is', 56), ('its', 21), ('into', 18), ('if', 18), ('inkulinati', 13), ('instead', 7), ('isn', 7)]\n",
      "[('of', 125), ('or', 24), ('on', 19), ('one', 18), ('off', 16), ('out', 15), ('over', 13), ('other', 10), ('own', 8), ('only', 7)]\n",
      "[('up', 16), ('unbound', 11), ('units', 9), ('unique', 5), ('until', 4), ('unit', 3), ('unless', 2), ('underneath', 2), ('used', 2), ('upon', 2)]\n",
      " \n",
      "Wizard of Oz Script\n",
      "[('and', 768), ('as', 344), ('a', 331), ('at', 167), ('all', 115), ('aunt', 69), ('about', 66), ('are', 64), ('away', 52), ('around', 40)]\n",
      "[('em', 101), ('els', 43), ('exits', 32), ('enters', 26), ('ever', 23), ('enter', 23), ('eyes', 22), ('exit', 19), ('emerald', 14), ('even', 12)]\n",
      "[('i', 474), ('in', 360), ('it', 261), ('is', 102), ('into', 72), ('if', 58), ('int', 30), ('isn', 9), ('images', 6), ('incubator', 5)]\n",
      "[('of', 449), ('oh', 278), ('on', 233), ('o', 225), ('out', 158), ('oz', 128), ('over', 59), ('one', 40), ('others', 37), ('old', 32)]\n",
      "[('up', 181), ('uncle', 45), ('us', 27), ('under', 17), ('use', 6), ('uh', 5), ('upon', 3), ('until', 3), ('used', 2), ('ugly', 2)]\n",
      " \n"
     ]
    }
   ],
   "source": [
    "#frequency dist for words beginning with vowels\n",
    "\n",
    "print(\"Frequency Distribution of words beginning with vowels in the texts\")\n",
    "\n",
    "corpusList = [chomskyWords,eurogamerWords,wozWords]\n",
    "\n",
    "prettyprint = [\"Chomsky Interview\", \"Eurogamer Reviews\", \"Wizard of Oz Script\"]\n",
    "\n",
    "for (corpus,title) in zip(corpusList, prettyprint):\n",
    "    \n",
    "    print(title)\n",
    "    \n",
    "    wordA = []\n",
    "    wordE = []\n",
    "    wordI = []\n",
    "    wordO = []\n",
    "    wordU = []\n",
    "    \n",
    "    wordVowel = [wordA, wordE, wordI, wordO, wordU]\n",
    "    \n",
    "    for word in corpus:\n",
    "        if re.search(\"^[aA]\", word):\n",
    "            wordA.append(word.lower())\n",
    "            \n",
    "        elif re.search(\"^[eE]\", word):\n",
    "            wordE.append(word.lower())\n",
    "            \n",
    "        elif re.search(\"^[iI]\", word):\n",
    "            wordI.append(word.lower())\n",
    "            \n",
    "        elif re.search(\"^[oO]\", word):\n",
    "            wordO.append(word.lower())\n",
    "            \n",
    "        elif re.search(\"^[uU]\", word):\n",
    "            wordU.append(word.lower())\n",
    "            \n",
    "    for vowel in wordVowel:\n",
    "        vowelFreq = FreqDist(vowel)\n",
    "        vowelTop10 = vowelFreq.most_common(10)\n",
    "        print(vowelTop10)\n",
    "        \n",
    "    print(\" \")"
   ]
  },
  {
   "cell_type": "code",
   "execution_count": 7,
   "id": "33341564",
   "metadata": {},
   "outputs": [
    {
     "name": "stdout",
     "output_type": "stream",
     "text": [
      "Number of words in the text\n",
      "Chomsky Interview\n",
      "11165\n",
      "Eurogamer Reviews\n",
      "5858\n",
      "Wizard of Oz Script\n",
      "29996\n"
     ]
    }
   ],
   "source": [
    "#number of words\n",
    "\n",
    "print(\"Number of words in the text\")\n",
    "\n",
    "for (corpus, title) in zip(corpusList, prettyprint):\n",
    "    \n",
    "    print(title)\n",
    "    \n",
    "    actualWords = []\n",
    "    \n",
    "    for word in corpus:\n",
    "        if re.search(\"^[A-Za-z]\", word):\n",
    "            actualWords.append(word)\n",
    "            \n",
    "    numWords = len(actualWords)\n",
    "    \n",
    "    print(numWords)"
   ]
  },
  {
   "cell_type": "code",
   "execution_count": 18,
   "id": "4c980f77",
   "metadata": {},
   "outputs": [],
   "source": [
    "def lexical_diversity(text):\n",
    "    return len(set(text)) / len(text)"
   ]
  },
  {
   "cell_type": "code",
   "execution_count": 19,
   "id": "838970b5",
   "metadata": {},
   "outputs": [
    {
     "data": {
      "text/plain": [
       "0.1660031548110869"
      ]
     },
     "execution_count": 19,
     "metadata": {},
     "output_type": "execute_result"
    }
   ],
   "source": [
    "lexical_diversity(chomskyWords)"
   ]
  },
  {
   "cell_type": "code",
   "execution_count": 20,
   "id": "85e0c712",
   "metadata": {},
   "outputs": [
    {
     "data": {
      "text/plain": [
       "0.29085392284351974"
      ]
     },
     "execution_count": 20,
     "metadata": {},
     "output_type": "execute_result"
    }
   ],
   "source": [
    "lexical_diversity(eurogamerWords)"
   ]
  },
  {
   "cell_type": "code",
   "execution_count": 21,
   "id": "5757cf1c",
   "metadata": {},
   "outputs": [
    {
     "data": {
      "text/plain": [
       "0.07287356905348123"
      ]
     },
     "execution_count": 21,
     "metadata": {},
     "output_type": "execute_result"
    }
   ],
   "source": [
    "lexical_diversity(wozWords)"
   ]
  },
  {
   "cell_type": "code",
   "execution_count": null,
   "id": "cd8f1076",
   "metadata": {},
   "outputs": [],
   "source": []
  }
 ],
 "metadata": {
  "kernelspec": {
   "display_name": "Python 3 (ipykernel)",
   "language": "python",
   "name": "python3"
  },
  "language_info": {
   "codemirror_mode": {
    "name": "ipython",
    "version": 3
   },
   "file_extension": ".py",
   "mimetype": "text/x-python",
   "name": "python",
   "nbconvert_exporter": "python",
   "pygments_lexer": "ipython3",
   "version": "3.9.13"
  }
 },
 "nbformat": 4,
 "nbformat_minor": 5
}
