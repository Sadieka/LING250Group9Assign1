{
 "cells": [
  {
   "cell_type": "markdown",
   "id": "08138342",
   "metadata": {},
   "source": [
    "Workbook"
   ]
  },
  {
   "cell_type": "code",
   "execution_count": 2,
   "id": "ee6657f9",
   "metadata": {},
   "outputs": [],
   "source": [
    "import nltk\n",
    "import re\n",
    "import os"
   ]
  },
  {
   "cell_type": "code",
   "execution_count": 22,
   "id": "ef978da6",
   "metadata": {},
   "outputs": [],
   "source": [
    "from nltk.corpus import PlaintextCorpusReader     #need to seperate text into words and sentences\n",
    "from nltk.probability import FreqDist     #need to do frequency calculations\n",
    "from nltk.collocations import BigramCollocationFinder     #need to find collocations"
   ]
  },
  {
   "cell_type": "code",
   "execution_count": 23,
   "id": "80cd432f",
   "metadata": {},
   "outputs": [],
   "source": [
    "#load texts\n",
    "corpusDirectory = \"./Corpus_Data\"\n",
    "corpus = PlaintextCorpusReader(corpusDirectory, \".*\")\n",
    "\n",
    "#load texts into nltk word list, this includes punctuation \n",
    "#punctuation is treated as a word in these lists!\n",
    "\n",
    "chomskyWords = corpus.words(\"ChomskyInterview.txt\")\n",
    "eurogamerWords = corpus.words(\"Eurogamer_Corpus.txt\")\n",
    "wozWords = corpus.words(\"WOZScript.txt\")\n",
    "\n",
    "#text divided into sentences"
   ]
  },
  {
   "cell_type": "code",
   "execution_count": 24,
   "id": "aabab954",
   "metadata": {},
   "outputs": [],
   "source": [
    "#frequency dist for words beginning with vowels\n",
    "\n",
    "def startvowelfreq(corpus):\n",
    "    \n",
    "    #create a list for each vowel\n",
    "    wordA = []\n",
    "    wordE = []\n",
    "    wordI = []\n",
    "    wordO = []\n",
    "    wordU = []\n",
    "    \n",
    "    wordVowel = [wordA, wordE, wordI, wordO, wordU]     #put all the vowel lists in single list\n",
    "    \n",
    "    for word in corpus:      #find words beginning with the vowel, add the lower case version to the corresponding list\n",
    "        if re.search(\"^[aA]\", word):\n",
    "            wordA.append(word.lower())\n",
    "            \n",
    "        elif re.search(\"^[eE]\", word):\n",
    "            wordE.append(word.lower())\n",
    "            \n",
    "        elif re.search(\"^[iI]\", word):\n",
    "            wordI.append(word.lower())\n",
    "            \n",
    "        elif re.search(\"^[oO]\", word):\n",
    "            wordO.append(word.lower())\n",
    "            \n",
    "        elif re.search(\"^[uU]\", word):\n",
    "            wordU.append(word.lower())\n",
    "\n",
    "    for vowel in wordVowel:         # for each vowel list, run FreqDist to get frequency, and then print the top 10\n",
    "        vowelFreq = FreqDist(vowel)\n",
    "        vowelTop10 = vowelFreq.most_common(10)\n",
    "        print(vowelTop10)"
   ]
  },
  {
   "cell_type": "code",
   "execution_count": 25,
   "id": "644c35cc",
   "metadata": {},
   "outputs": [
    {
     "name": "stdout",
     "output_type": "stream",
     "text": [
      "[('a', 267), ('and', 217), ('are', 72), ('about', 68), ('as', 46), ('at', 29), ('all', 28), ('an', 27), ('any', 19), ('american', 15)]\n",
      "[('ezra', 35), ('even', 15), ('example', 7), ('every', 7), ('end', 6), ('early', 6), ('economic', 6), ('everything', 6), ('ever', 5), ('essentially', 5)]\n",
      "[('it', 261), ('in', 188), ('is', 158), ('i', 153), ('if', 54), ('into', 19), ('industry', 14), ('idea', 8), ('international', 7), ('its', 6)]\n",
      "[('of', 356), ('on', 55), ('or', 31), ('one', 31), ('out', 31), ('our', 24), ('other', 18), ('over', 16), ('own', 12), ('others', 7)]\n",
      "[('up', 18), ('us', 16), ('united', 8), ('used', 7), ('under', 7), ('understand', 6), ('use', 5), ('u', 5), ('using', 4), ('unfortunately', 4)]\n"
     ]
    }
   ],
   "source": [
    "startvowelfreq(chomskyWords)"
   ]
  },
  {
   "cell_type": "code",
   "execution_count": 26,
   "id": "6c5dd3f2",
   "metadata": {},
   "outputs": [
    {
     "name": "stdout",
     "output_type": "stream",
     "text": [
      "[('a', 183), ('and', 175), ('an', 37), ('as', 33), ('are', 30), ('at', 20), ('all', 15), ('army', 10), ('about', 9), ('also', 8)]\n",
      "[('engage', 18), ('even', 15), ('each', 14), ('every', 13), ('estelle', 10), ('emblem', 10), ('enemy', 6), ('end', 5), ('entirely', 4), ('enemies', 4)]\n",
      "[('in', 78), ('it', 70), ('i', 69), ('is', 56), ('its', 21), ('into', 18), ('if', 18), ('inkulinati', 13), ('instead', 7), ('isn', 7)]\n",
      "[('of', 125), ('or', 24), ('on', 19), ('one', 18), ('off', 16), ('out', 15), ('over', 13), ('other', 10), ('own', 8), ('only', 7)]\n",
      "[('up', 16), ('unbound', 11), ('units', 9), ('unique', 5), ('until', 4), ('unit', 3), ('unless', 2), ('underneath', 2), ('used', 2), ('upon', 2)]\n"
     ]
    }
   ],
   "source": [
    "startvowelfreq(eurogamerWords)"
   ]
  },
  {
   "cell_type": "code",
   "execution_count": 27,
   "id": "dc17a12c",
   "metadata": {},
   "outputs": [
    {
     "name": "stdout",
     "output_type": "stream",
     "text": [
      "[('and', 768), ('as', 344), ('a', 331), ('at', 167), ('all', 115), ('aunt', 69), ('about', 66), ('are', 64), ('away', 52), ('around', 40)]\n",
      "[('em', 101), ('els', 43), ('exits', 32), ('enters', 26), ('ever', 23), ('enter', 23), ('eyes', 22), ('exit', 19), ('emerald', 14), ('even', 12)]\n",
      "[('i', 474), ('in', 360), ('it', 261), ('is', 102), ('into', 72), ('if', 58), ('int', 30), ('isn', 9), ('images', 6), ('incubator', 5)]\n",
      "[('of', 449), ('oh', 278), ('on', 233), ('o', 225), ('out', 158), ('oz', 128), ('over', 59), ('one', 40), ('others', 37), ('old', 32)]\n",
      "[('up', 181), ('uncle', 45), ('us', 27), ('under', 17), ('use', 6), ('uh', 5), ('upon', 3), ('until', 3), ('used', 2), ('ugly', 2)]\n"
     ]
    }
   ],
   "source": [
    "startvowelfreq(wozWords)"
   ]
  },
  {
   "cell_type": "code",
   "execution_count": 28,
   "id": "33341564",
   "metadata": {},
   "outputs": [
    {
     "name": "stdout",
     "output_type": "stream",
     "text": [
      "11165\n",
      "5858\n",
      "29996\n"
     ]
    }
   ],
   "source": [
    "#number of words\n",
    "\n",
    "def num_words(corpus):\n",
    "    \n",
    "    actualwords = []\n",
    "    \n",
    "    for word in corpus:     #only include words that begin with a letter\n",
    "        if re.search(\"^[A-Za-z]\", word):\n",
    "            actualwords.append(word)\n",
    "            \n",
    "    numwords = len(actualwords)\n",
    "    \n",
    "    return numwords\n",
    "\n",
    "\n",
    "\n",
    "print(num_words(chomskyWords))\n",
    "\n",
    "print(num_words(eurogamerWords))\n",
    "\n",
    "print(num_words(wozWords))\n",
    "\n",
    "\n",
    "chomskyWordsactual = num_words(chomskyWords)\n",
    "euroWordsactual = num_words(eurogamerWords)\n",
    "wozWordsactual = num_words(wozWords)\n",
    "#these word lists don't include punctuation\n"
   ]
  },
  {
   "cell_type": "code",
   "execution_count": 29,
   "id": "4c980f77",
   "metadata": {},
   "outputs": [],
   "source": [
    "#lexical diversity\n",
    "\n",
    "def lexical_diversity(text):\n",
    "    return len(set(text)) / len(text)"
   ]
  },
  {
   "cell_type": "code",
   "execution_count": 30,
   "id": "838970b5",
   "metadata": {},
   "outputs": [
    {
     "data": {
      "text/plain": [
       "0.1660031548110869"
      ]
     },
     "execution_count": 30,
     "metadata": {},
     "output_type": "execute_result"
    }
   ],
   "source": [
    "lexical_diversity(chomskyWords)"
   ]
  },
  {
   "cell_type": "code",
   "execution_count": 31,
   "id": "85e0c712",
   "metadata": {},
   "outputs": [
    {
     "data": {
      "text/plain": [
       "0.29085392284351974"
      ]
     },
     "execution_count": 31,
     "metadata": {},
     "output_type": "execute_result"
    }
   ],
   "source": [
    "lexical_diversity(eurogamerWords)"
   ]
  },
  {
   "cell_type": "code",
   "execution_count": 32,
   "id": "5757cf1c",
   "metadata": {},
   "outputs": [
    {
     "data": {
      "text/plain": [
       "0.07287356905348123"
      ]
     },
     "execution_count": 32,
     "metadata": {},
     "output_type": "execute_result"
    }
   ],
   "source": [
    "lexical_diversity(wozWords)"
   ]
  },
  {
   "cell_type": "code",
   "execution_count": 46,
   "id": "cd8f1076",
   "metadata": {},
   "outputs": [],
   "source": [
    "#collocation finder\n",
    "\n",
    "def collocationfinder(corpus):\n",
    "  \n",
    "    bigram_measures = nltk.collocations.BigramAssocMeasures()     #import bigram finder\n",
    "    \n",
    "    collocater = BigramCollocationFinder.from_words(corpus)     #set up finder to search text\n",
    "    \n",
    "    #filter out meaningless associations\n",
    "    collocater.apply_word_filter(lambda w: w in (\"'\", ',',\".\",\"re\",\"?\",\"!\",\"nt\",\"’\",\":\",\"--\",\"S\"))   \n",
    "    \n",
    "    print (collocater.nbest(bigram_measures.likelihood_ratio, 10))     #print top ten bigrams"
   ]
  },
  {
   "cell_type": "code",
   "execution_count": 47,
   "id": "c658a475",
   "metadata": {},
   "outputs": [
    {
     "name": "stdout",
     "output_type": "stream",
     "text": [
      "[('EZRA', 'KLEIN'), ('NOAM', 'CHOMSKY'), ('going', 'to'), ('I', 'think'), ('in', 'the'), ('of', 'the'), ('a', 'lot'), ('I', 'mean'), ('United', 'States'), ('I', 'don')]\n"
     ]
    }
   ],
   "source": [
    "collocationfinder(chomskyWords)"
   ]
  },
  {
   "cell_type": "code",
   "execution_count": 48,
   "id": "80c489a5",
   "metadata": {},
   "outputs": [
    {
     "name": "stdout",
     "output_type": "stream",
     "text": [
      "[('A', 'Space'), ('Fire', 'Emblem'), ('Space', 'for'), ('the', 'Unbound'), ('This', 'is'), ('even', 'if'), ('Three', 'Houses'), ('for', 'the'), ('Emblem', 'Engage'), ('you', 'can')]\n"
     ]
    }
   ],
   "source": [
    "collocationfinder(eurogamerWords)"
   ]
  },
  {
   "cell_type": "code",
   "execution_count": 49,
   "id": "00639f8f",
   "metadata": {},
   "outputs": [
    {
     "name": "stdout",
     "output_type": "stream",
     "text": [
      "[('Tin', 'Man'), ('TIN', 'MAN'), ('CAMERA', 'PANS'), ('CAMERA', 'TRUCKS'), ('DOROTHY', 'Oh'), ('Aunt', 'Em'), ('LAP', 'DISSOLVE'), ('DISSOLVE', 'TO'), ('shooting', 'past'), ('Dorothy', 'and')]\n"
     ]
    }
   ],
   "source": [
    "collocationfinder(wozWords)"
   ]
  },
  {
   "cell_type": "code",
   "execution_count": null,
   "id": "12964788",
   "metadata": {},
   "outputs": [],
   "source": []
  }
 ],
 "metadata": {
  "kernelspec": {
   "display_name": "Python 3 (ipykernel)",
   "language": "python",
   "name": "python3"
  },
  "language_info": {
   "codemirror_mode": {
    "name": "ipython",
    "version": 3
   },
   "file_extension": ".py",
   "mimetype": "text/x-python",
   "name": "python",
   "nbconvert_exporter": "python",
   "pygments_lexer": "ipython3",
   "version": "3.9.15"
  }
 },
 "nbformat": 4,
 "nbformat_minor": 5
}
