{
 "cells": [
  {
   "cell_type": "markdown",
   "id": "08138342",
   "metadata": {},
   "source": [
    "Workbook"
   ]
  },
  {
   "cell_type": "markdown",
   "id": "16f06bc6",
   "metadata": {},
   "source": [
    "## Contributions\n",
    "Thompson, Josh (301421008) - 2/3 Corpus Collection, Lexical Diversity, Longest sentence, write up, citations.\n",
    "Ty, David (301334955) - 1/3 Corpus collection, Vowels, stemming, collocation, length, - created the github."
   ]
  },
  {
   "cell_type": "code",
   "execution_count": 4,
   "id": "ee6657f9",
   "metadata": {},
   "outputs": [],
   "source": [
    "import nltk\n",
    "import re\n",
    "import os"
   ]
  },
  {
   "cell_type": "code",
   "execution_count": 5,
   "id": "ef978da6",
   "metadata": {},
   "outputs": [],
   "source": [
    "from nltk.corpus import PlaintextCorpusReader     #need to seperate text into words and sentences\n",
    "from nltk.probability import FreqDist     #need to do frequency calculations\n",
    "from nltk.collocations import BigramCollocationFinder     #need to find collocations\n",
    "from nltk.stem.snowball import SnowballStemmer     #used to stem\n",
    "from nltk.text import Text       #need for concordance\n",
    "from nltk.corpus import stopwords     #need for concordance"
   ]
  },
  {
   "cell_type": "code",
   "execution_count": 6,
   "id": "80cd432f",
   "metadata": {},
   "outputs": [],
   "source": [
    "#load texts\n",
    "corpusDirectory = \"./Corpus_Data\"\n",
    "corpus = PlaintextCorpusReader(corpusDirectory, \".*\")\n",
    "\n",
    "#load texts into nltk word list, this includes punctuation \n",
    "chomskyWords = corpus.words(\"ChomskyInterview.txt\")\n",
    "eurogamerWords = corpus.words(\"Eurogamer_Corpus.txt\")\n",
    "wozWords = corpus.words(\"WOZScript.txt\")\n",
    "\n",
    "#text divided into sentences\n",
    "chomskySents = corpus.sents(\"ChomskyInterview.txt\")\n",
    "euroSents = corpus.sents(\"Eurogamer_Corpus.txt\")\n",
    "wozSents = corpus.sents(\"WOzScript.txt\")\n",
    "\n",
    "#text for concordance\n",
    "chomskyText = Text(chomskyWords)\n",
    "euroText = Text(eurogamerWords)\n",
    "wozText = Text(wozWords)"
   ]
  },
  {
   "cell_type": "markdown",
   "id": "19d98db0",
   "metadata": {},
   "source": [
    "# Top ten words that start with each of the vowels"
   ]
  },
  {
   "cell_type": "code",
   "execution_count": 7,
   "id": "aabab954",
   "metadata": {},
   "outputs": [],
   "source": [
    "#frequency dist for words beginning with vowels\n",
    "\n",
    "def startvowelfreq(corpus):\n",
    "    \n",
    "    #create a list for each vowel\n",
    "    wordA = []\n",
    "    wordE = []\n",
    "    wordI = []\n",
    "    wordO = []\n",
    "    wordU = []\n",
    "    \n",
    "    wordVowel = [wordA, wordE, wordI, wordO, wordU]     #put all the vowel lists in single list\n",
    "    \n",
    "    for word in corpus:      #find words beginning with the vowel, add the lower case version to the corresponding list\n",
    "        if re.search(\"^[aA]\", word):\n",
    "            wordA.append(word.lower())\n",
    "            \n",
    "        elif re.search(\"^[eE]\", word):\n",
    "            wordE.append(word.lower())\n",
    "            \n",
    "        elif re.search(\"^[iI]\", word):\n",
    "            wordI.append(word.lower())\n",
    "            \n",
    "        elif re.search(\"^[oO]\", word):\n",
    "            wordO.append(word.lower())\n",
    "            \n",
    "        elif re.search(\"^[uU]\", word):\n",
    "            wordU.append(word.lower())\n",
    "\n",
    "    for vowel in wordVowel:         # for each vowel list, run FreqDist to get frequency, and then print the top 10\n",
    "        vowelFreq = FreqDist(vowel)\n",
    "        vowelTop10 = vowelFreq.most_common(10)\n",
    "        print(vowelTop10)"
   ]
  },
  {
   "cell_type": "code",
   "execution_count": 8,
   "id": "644c35cc",
   "metadata": {},
   "outputs": [
    {
     "name": "stdout",
     "output_type": "stream",
     "text": [
      "[('a', 267), ('and', 217), ('are', 72), ('about', 68), ('as', 46), ('at', 29), ('all', 28), ('an', 27), ('any', 19), ('american', 15)]\n",
      "[('ezra', 35), ('even', 15), ('example', 7), ('every', 7), ('end', 6), ('early', 6), ('economic', 6), ('everything', 6), ('ever', 5), ('essentially', 5)]\n",
      "[('it', 261), ('in', 188), ('is', 158), ('i', 153), ('if', 54), ('into', 19), ('industry', 14), ('idea', 8), ('international', 7), ('its', 6)]\n",
      "[('of', 356), ('on', 55), ('or', 31), ('one', 31), ('out', 31), ('our', 24), ('other', 18), ('over', 16), ('own', 12), ('others', 7)]\n",
      "[('up', 18), ('us', 16), ('united', 8), ('used', 7), ('under', 7), ('understand', 6), ('use', 5), ('u', 5), ('using', 4), ('unfortunately', 4)]\n"
     ]
    }
   ],
   "source": [
    "startvowelfreq(chomskyWords)"
   ]
  },
  {
   "cell_type": "code",
   "execution_count": 9,
   "id": "6c5dd3f2",
   "metadata": {},
   "outputs": [
    {
     "name": "stdout",
     "output_type": "stream",
     "text": [
      "[('a', 183), ('and', 175), ('an', 37), ('as', 33), ('are', 30), ('at', 20), ('all', 15), ('army', 10), ('about', 9), ('also', 8)]\n",
      "[('engage', 18), ('even', 15), ('each', 14), ('every', 13), ('estelle', 10), ('emblem', 10), ('enemy', 6), ('end', 5), ('entirely', 4), ('enemies', 4)]\n",
      "[('in', 78), ('it', 70), ('i', 69), ('is', 56), ('its', 21), ('into', 18), ('if', 18), ('inkulinati', 13), ('instead', 7), ('isn', 7)]\n",
      "[('of', 125), ('or', 24), ('on', 19), ('one', 18), ('off', 16), ('out', 15), ('over', 13), ('other', 10), ('own', 8), ('only', 7)]\n",
      "[('up', 16), ('unbound', 11), ('units', 9), ('unique', 5), ('until', 4), ('unit', 3), ('unless', 2), ('underneath', 2), ('used', 2), ('upon', 2)]\n"
     ]
    }
   ],
   "source": [
    "startvowelfreq(eurogamerWords)"
   ]
  },
  {
   "cell_type": "code",
   "execution_count": 10,
   "id": "b0c1ebf3",
   "metadata": {},
   "outputs": [
    {
     "name": "stdout",
     "output_type": "stream",
     "text": [
      "[('and', 768), ('as', 344), ('a', 331), ('at', 167), ('all', 115), ('aunt', 69), ('about', 66), ('are', 64), ('away', 52), ('around', 40)]\n",
      "[('em', 101), ('els', 43), ('exits', 32), ('enters', 26), ('ever', 23), ('enter', 23), ('eyes', 22), ('exit', 19), ('emerald', 14), ('even', 12)]\n",
      "[('i', 474), ('in', 360), ('it', 261), ('is', 102), ('into', 72), ('if', 58), ('int', 30), ('isn', 9), ('images', 6), ('incubator', 5)]\n",
      "[('of', 449), ('oh', 278), ('on', 233), ('o', 225), ('out', 158), ('oz', 128), ('over', 59), ('one', 40), ('others', 37), ('old', 32)]\n",
      "[('up', 181), ('uncle', 45), ('us', 27), ('under', 17), ('use', 6), ('uh', 5), ('upon', 3), ('until', 3), ('used', 2), ('ugly', 2)]\n"
     ]
    }
   ],
   "source": [
    "startvowelfreq(wozWords)"
   ]
  },
  {
   "cell_type": "markdown",
   "id": "99252c15",
   "metadata": {},
   "source": [
    "#  Length of words"
   ]
  },
  {
   "cell_type": "code",
   "execution_count": 13,
   "id": "33341564",
   "metadata": {},
   "outputs": [
    {
     "name": "stdout",
     "output_type": "stream",
     "text": [
      "The Chomsky interview has 11165 words\n",
      "The eurogamer review corpus has 5858 words\n",
      "The Wizard of Oz script has 29996 words\n"
     ]
    }
   ],
   "source": [
    "#number of words\n",
    "\n",
    "def num_words(corpus):      #returns the number of words without punctuation\n",
    "    \n",
    "    actualwords = []\n",
    "    \n",
    "    for word in corpus:     #only include words that begin with a letter\n",
    "        if re.search(\"^[A-Za-z]\", word):\n",
    "            actualwords.append(word)\n",
    "            \n",
    "    numwords = len(actualwords)\n",
    "    \n",
    "    return numwords\n",
    "\n",
    "\n",
    "print(\"The Chomsky interview has\" + \" \" + str(num_words(chomskyWords)) + \" \" + \"words\")\n",
    "\n",
    "print(\"The eurogamer review corpus has\" + \" \" + str(num_words(eurogamerWords)) + \" \" + \"words\")\n",
    "\n",
    "print(\"The Wizard of Oz script has\" + \" \" + str(num_words(wozWords)) + \" \" + \"words\")\n"
   ]
  },
  {
   "cell_type": "markdown",
   "id": "60f76019",
   "metadata": {},
   "source": [
    "# Lexical Diversity"
   ]
  },
  {
   "cell_type": "code",
   "execution_count": 92,
   "id": "4c980f77",
   "metadata": {},
   "outputs": [],
   "source": [
    "#lexical diversity\n",
    "\n",
    "def lexical_diversity(text):\n",
    "    return len(set(text)) / len(text)"
   ]
  },
  {
   "cell_type": "code",
   "execution_count": 93,
   "id": "838970b5",
   "metadata": {},
   "outputs": [
    {
     "data": {
      "text/plain": [
       "0.1660031548110869"
      ]
     },
     "execution_count": 93,
     "metadata": {},
     "output_type": "execute_result"
    }
   ],
   "source": [
    "lexical_diversity(chomskyWords)"
   ]
  },
  {
   "cell_type": "code",
   "execution_count": 94,
   "id": "85e0c712",
   "metadata": {},
   "outputs": [
    {
     "data": {
      "text/plain": [
       "0.29085392284351974"
      ]
     },
     "execution_count": 94,
     "metadata": {},
     "output_type": "execute_result"
    }
   ],
   "source": [
    "lexical_diversity(eurogamerWords)"
   ]
  },
  {
   "cell_type": "code",
   "execution_count": 95,
   "id": "5757cf1c",
   "metadata": {},
   "outputs": [
    {
     "data": {
      "text/plain": [
       "0.07287356905348123"
      ]
     },
     "execution_count": 95,
     "metadata": {},
     "output_type": "execute_result"
    }
   ],
   "source": [
    "lexical_diversity(wozWords)"
   ]
  },
  {
   "cell_type": "markdown",
   "id": "3a07815b",
   "metadata": {},
   "source": [
    "Ignore the below part."
   ]
  },
  {
   "cell_type": "code",
   "execution_count": 96,
   "id": "cd8f1076",
   "metadata": {},
   "outputs": [],
   "source": [
    "#collocation finder\n",
    "\n",
    "def collocationfinder(corpus):\n",
    "  \n",
    "    bigram_measures = nltk.collocations.BigramAssocMeasures()     #import bigram finder\n",
    "    \n",
    "    collocater = BigramCollocationFinder.from_words(corpus)     #set up finder to search defined text\n",
    "    \n",
    "                                                                    #filter out meaningless associations\n",
    "    collocater.apply_word_filter(lambda w: w in (\"'\", ',',\".\",\"re\",\"?\",\"!\",\"nt\",\"’\",\":\",\"--\",\"S\"))   \n",
    "    \n",
    "    print (collocater.nbest(bigram_measures.likelihood_ratio, 10))     #print top ten bigrams"
   ]
  },
  {
   "cell_type": "code",
   "execution_count": 97,
   "id": "c658a475",
   "metadata": {},
   "outputs": [
    {
     "name": "stdout",
     "output_type": "stream",
     "text": [
      "[('EZRA', 'KLEIN'), ('NOAM', 'CHOMSKY'), ('going', 'to'), ('I', 'think'), ('in', 'the'), ('of', 'the'), ('a', 'lot'), ('I', 'mean'), ('United', 'States'), ('I', 'don')]\n"
     ]
    }
   ],
   "source": [
    "collocationfinder(chomskyWords)"
   ]
  },
  {
   "cell_type": "code",
   "execution_count": 98,
   "id": "80c489a5",
   "metadata": {},
   "outputs": [
    {
     "name": "stdout",
     "output_type": "stream",
     "text": [
      "[('A', 'Space'), ('Fire', 'Emblem'), ('Space', 'for'), ('the', 'Unbound'), ('This', 'is'), ('even', 'if'), ('Three', 'Houses'), ('for', 'the'), ('Emblem', 'Engage'), ('you', 'can')]\n"
     ]
    }
   ],
   "source": [
    "collocationfinder(eurogamerWords)"
   ]
  },
  {
   "cell_type": "code",
   "execution_count": 99,
   "id": "00639f8f",
   "metadata": {},
   "outputs": [
    {
     "name": "stdout",
     "output_type": "stream",
     "text": [
      "[('Tin', 'Man'), ('TIN', 'MAN'), ('CAMERA', 'PANS'), ('CAMERA', 'TRUCKS'), ('DOROTHY', 'Oh'), ('Aunt', 'Em'), ('LAP', 'DISSOLVE'), ('DISSOLVE', 'TO'), ('shooting', 'past'), ('Dorothy', 'and')]\n"
     ]
    }
   ],
   "source": [
    "collocationfinder(wozWords)"
   ]
  },
  {
   "cell_type": "markdown",
   "id": "4853d67a",
   "metadata": {},
   "source": [
    "# Longest Sentence"
   ]
  },
  {
   "cell_type": "code",
   "execution_count": 100,
   "id": "9ab3695a",
   "metadata": {},
   "outputs": [],
   "source": [
    "#longest sentence\n",
    "\n",
    "def longsent(sentcorpus):     #prints info about longsent, num and joined longsent\n",
    "    \n",
    "    sentedit = []\n",
    "\n",
    "    for sent in sentcorpus:  #for every sentence in the corpus\n",
    "        for word in sent:      #for every word in the sentence\n",
    "            if re.search(\"[^A-Za-z]\", word):     #if the word doesn't begin with a letter remove it\n",
    "                sent.remove(word)\n",
    "        sentedit.append(sent)     #add the edited sentence to the list\n",
    "        \n",
    "    longsent = max(sentedit, key=len)     #finds the longest sentence by word count, creates a list\n",
    "\n",
    "    print(longsent)\n",
    "    print(len(longsent))   #word count\n",
    "\n",
    "    longsent_join = \" \".join(longsent)    #join the list of words into a string\n",
    "    print(longsent_join)\n",
    "    \n",
    "    \n",
    "    \n",
    "def longsentvar(sentcorpus):     #used for stemming function, only returns longsent, does not print\n",
    "    \n",
    "    sentedit = []\n",
    "\n",
    "    for sent in sentcorpus:\n",
    "        for word in sent:\n",
    "            if re.search(\"[^A-Za-z]\", word):\n",
    "                sent.remove(word)\n",
    "        sentedit.append(sent)\n",
    "        \n",
    "    longsent = max(sentedit, key=len)   \n",
    "    return longsent\n",
    "\n",
    "#variables for stemming function\n",
    "chomskylong = longsentvar(chomskySents)\n",
    "eurolong = longsentvar(euroSents)\n",
    "wozlong = longsentvar(wozSents)"
   ]
  },
  {
   "cell_type": "code",
   "execution_count": 101,
   "id": "d8e8721b",
   "metadata": {},
   "outputs": [
    {
     "name": "stdout",
     "output_type": "stream",
     "text": [
      "['If', 'I', 'go', 'back', 'to', 'early', 'childhood', 'some', 'of', 'the', 'reading', 'that', 'had', 'a', 'lasting', 'impact', 'which', 'I', 'don', 't', 'even', 'think', 'it', 's', 'in', 'English', 'was', 'the', 'Hebrew', 'essays', 'of', 'a', 'turn', 'of', 'the', 'century', 'essayist', 'that', 'went', 'by', 'the', 'name', 'of', 'Ahad', 'Ha', 'am', 'writing', 'about', 'partly', 'intellectual', 'contributions', 'which', 'were', 'significant', 'partly', 'talking', 'about', 'the', 'developing', 'situation', 'in', 'what', 'was', 'then', 'Palestine', 'which', 'had', 'a', 'large', 'effect', 'on', 'my', 'thinking', 'ever', 'since']\n",
      "75\n",
      "If I go back to early childhood some of the reading that had a lasting impact which I don t even think it s in English was the Hebrew essays of a turn of the century essayist that went by the name of Ahad Ha am writing about partly intellectual contributions which were significant partly talking about the developing situation in what was then Palestine which had a large effect on my thinking ever since\n"
     ]
    }
   ],
   "source": [
    "longsent(chomskySents)"
   ]
  },
  {
   "cell_type": "code",
   "execution_count": 102,
   "id": "e476e814",
   "metadata": {},
   "outputs": [
    {
     "name": "stdout",
     "output_type": "stream",
     "text": [
      "['As', 'a', 'surprisingly', 'linear', 'adventure', 'it', 's', 'difficult', 'to', 'talk', 'much', 'about', 'Estelle', 's', 'journey', 'without', 'giving', 'something', 'important', 'away', 'and', 'as', 'her', 'story', 'is', 'essentially', 'as', 'long', 'or', 'as', 'brief', 'as', 'you', 'want', 'it', 'to', 'be', 'you', 'can', 'belt', 'through', 'it', 'and', 'be', 'done', 'within', 'a', 'few', 'hours', 'or', 'savour', 'each', 'new', 'environment', 'and', 'scour', 'every', 'inch', 'of', 'it', 'for', 'days', 'I', 'imagine', 'there', 'may', 'be', 'some', 'people', 'or', 'places', 'you', 'could', 'miss', 'entirely', 'and', 'complete', 'the', 'game', 'never', 'knowing', 'that', 'they', 'existed']\n",
      "84\n",
      "As a surprisingly linear adventure it s difficult to talk much about Estelle s journey without giving something important away and as her story is essentially as long or as brief as you want it to be you can belt through it and be done within a few hours or savour each new environment and scour every inch of it for days I imagine there may be some people or places you could miss entirely and complete the game never knowing that they existed\n"
     ]
    }
   ],
   "source": [
    "longsent(euroSents)"
   ]
  },
  {
   "cell_type": "code",
   "execution_count": 103,
   "id": "6f25c26d",
   "metadata": {},
   "outputs": [
    {
     "name": "stdout",
     "output_type": "stream",
     "text": [
      "['Gale', 'Sitting', 'room', 'Aunt', 'Em', 'and', 'Miss', 'Gulch', 'seated', 'Dorothy', 'enters', 'carrying', 'Toto', 'in', 'her', 'arms', 'CAMERA', 'TRUCKS', 'forward', 'on', 'them', 'PANS', 'to', 'right', 'with', 'Dorothy', 'to', 'Uncle', 'Henry', 'then', 'Pans', 'her', 'left', 'to', 'Aunt', 'Em', 'and', 'Miss', 'Gulch', 'Miss', 'Gulch', 'shows', 'order', 'to', 'Aunt', 'Em', 'Uncle', 'Henry', 'enters', 'looks', 'at', 'the', 'order', 'Miss', 'Gulch', 'picks', 'up', 'basket', 'rises', 'Dorothy', 'screams', 'at', 'Miss', 'Gulch', 'Miss', 'Gulch', 'tries', 'to', 'take', 'Toto', 'away', 'from', 'Dorothy', 'Uncle', 'Henry', 'takes', 'Toto', 'puts', 'him', 'into', 'basket']\n",
      "81\n",
      "Gale Sitting room Aunt Em and Miss Gulch seated Dorothy enters carrying Toto in her arms CAMERA TRUCKS forward on them PANS to right with Dorothy to Uncle Henry then Pans her left to Aunt Em and Miss Gulch Miss Gulch shows order to Aunt Em Uncle Henry enters looks at the order Miss Gulch picks up basket rises Dorothy screams at Miss Gulch Miss Gulch tries to take Toto away from Dorothy Uncle Henry takes Toto puts him into basket\n"
     ]
    }
   ],
   "source": [
    "longsent(wozSents)"
   ]
  },
  {
   "cell_type": "markdown",
   "id": "b80019a4",
   "metadata": {},
   "source": [
    "# Stemming"
   ]
  },
  {
   "cell_type": "code",
   "execution_count": 104,
   "id": "0d3d832a",
   "metadata": {},
   "outputs": [],
   "source": [
    "#stemming function\n",
    "\n",
    "stemmer = SnowballStemmer(\"english\")    #load snowball stemmer\n",
    "\n",
    "def stemming(longsent):\n",
    "    \n",
    "    stemmedsentlist = []\n",
    "    \n",
    "    for word in longsent:     #for each word in the sentence, stem it\n",
    "        stemword = stemmer.stem(word)\n",
    "        stemmedsentlist.append(stemword)\n",
    "        \n",
    "    stemmedsent = \" \".join(stemmedsentlist)      #create a string from the list of stemmed words\n",
    "    \n",
    "    print(stemmedsent)"
   ]
  },
  {
   "cell_type": "code",
   "execution_count": 105,
   "id": "c6159c61",
   "metadata": {},
   "outputs": [
    {
     "name": "stdout",
     "output_type": "stream",
     "text": [
      "if i go back to earli childhood some of the read that had a last impact which i don t even think it s in english was the hebrew essay of a turn of the centuri essayist that went by the name of ahad ha am write about part intellectu contribut which were signific part talk about the develop situat in what was then palestin which had a larg effect on my think ever sinc\n"
     ]
    }
   ],
   "source": [
    "stemming(chomskylong)"
   ]
  },
  {
   "cell_type": "code",
   "execution_count": 106,
   "id": "af15c961",
   "metadata": {},
   "outputs": [
    {
     "name": "stdout",
     "output_type": "stream",
     "text": [
      "as a surpris linear adventur it s difficult to talk much about estell s journey without give someth import away and as her stori is essenti as long or as brief as you want it to be you can belt through it and be done within a few hour or savour each new environ and scour everi inch of it for day i imagin there may be some peopl or place you could miss entir and complet the game never know that they exist\n"
     ]
    }
   ],
   "source": [
    "stemming(eurolong)"
   ]
  },
  {
   "cell_type": "code",
   "execution_count": 107,
   "id": "e9cc9cc6",
   "metadata": {},
   "outputs": [
    {
     "name": "stdout",
     "output_type": "stream",
     "text": [
      "gale sit room aunt em and miss gulch seat dorothi enter carri toto in her arm camera truck forward on them pan to right with dorothi to uncl henri then pan her left to aunt em and miss gulch miss gulch show order to aunt em uncl henri enter look at the order miss gulch pick up basket rise dorothi scream at miss gulch miss gulch tri to take toto away from dorothi uncl henri take toto put him into basket\n"
     ]
    }
   ],
   "source": [
    "stemming(wozlong)"
   ]
  },
  {
   "cell_type": "code",
   "execution_count": 77,
   "id": "ab35ef5a",
   "metadata": {},
   "outputs": [],
   "source": [
    "#prep for concordance function\n",
    "\n",
    "stop_words = set(stopwords.words('english'))\n",
    "\n",
    "def parsewords(corpus):     #gives actual words as variable, removes stopwords as nltk defines\n",
    "    \n",
    "    actualwords = []\n",
    "    \n",
    "    for word in corpus:    \n",
    "        if re.search(\"^[A-Za-z]\", word):\n",
    "            actualwords.append(word.lower())\n",
    "            \n",
    "    actualwordsstop = [w for w in actualwords if not w.lower() in stop_words]\n",
    "            \n",
    "    return actualwordsstop\n",
    "\n",
    "\n",
    "def freqword(corpusactual):      #returns top 5 most frequent words from actual words\n",
    "    \n",
    "    Freqword = FreqDist(corpusactual)\n",
    "    wordTop5 = Freqword.most_common(5)\n",
    "    return wordTop5\n",
    "    print(wordTop5)"
   ]
  },
  {
   "cell_type": "code",
   "execution_count": 78,
   "id": "62afac1a",
   "metadata": {},
   "outputs": [],
   "source": [
    "#actual word variables\n",
    "chomskyWordsactual = parsewords(chomskyWords)\n",
    "euroWordsactual = parsewords(eurogamerWords)\n",
    "wozWordsactual = parsewords(wozWords)"
   ]
  },
  {
   "cell_type": "code",
   "execution_count": 79,
   "id": "2f87c9ea",
   "metadata": {},
   "outputs": [],
   "source": [
    "#top 5 words by frequency from actual words\n",
    "chomskytop5 = freqword(chomskyWordsactual)\n",
    "eurotop5 = freqword(euroWordsactual)\n",
    "woztop5 = freqword(wozWordsactual)\n",
    "\n",
    "#converts tuples from freqdist to list of words, by taking first index\n",
    "chomskytop5e = [x[0] for x in chomskytop5]\n",
    "eurotop5e = [x[0] for x in eurotop5]\n",
    "woztop5e = [x[0] for x in woztop5]\n"
   ]
  },
  {
   "cell_type": "code",
   "execution_count": 80,
   "id": "8306fd60",
   "metadata": {},
   "outputs": [],
   "source": [
    "#concordance function\n",
    "#shows the context of the top 5 most frequent words in the text\n",
    "\n",
    "def concordancefunc(freqword, corpus):\n",
    "    for word in freqword:\n",
    "        print(corpus.concordance(word))\n",
    "        \n",
    "        "
   ]
  },
  {
   "cell_type": "markdown",
   "id": "c871d9f3",
   "metadata": {},
   "source": [
    "# Collocations "
   ]
  },
  {
   "cell_type": "code",
   "execution_count": 108,
   "id": "9dfbaf66",
   "metadata": {},
   "outputs": [
    {
     "name": "stdout",
     "output_type": "stream",
     "text": [
      "Displaying 25 of 69 matches:\n",
      "his ideal world because he doesn ’ t think that ’ s how change can actually fun\n",
      " and his work on language and how we think but then feeding into his beliefs ab\n",
      " Choose ? Kerry Condon : ‘ I Don ’ t Think Anything Has Ever Come Easy to Me ’ \n",
      "And it ’ s always a fight . And I do think your politics leads in a different d\n",
      " a different direction . If what you think is that the sort of capitalist struc\n",
      "ssing their true wants versus if you think , and I probably lean more towards t\n",
      " ’ s a relation of central power . I think we have a huge industry in the Unite\n",
      "gether because one of the things , I think , is interesting here is — I agree w\n",
      " part for these reasons . I mean , I think it understands something that we ’ v\n",
      "t stuff is not great , but I don ’ t think it ’ s quite as much a capacity for \n",
      "se to a truism . That ’ s it . And I think everybody , if they think about it ,\n",
      "it . And I think everybody , if they think about it , will accept at least this\n",
      "ty on their behalf is legitimate . I think there are many of those cases that y\n",
      "e capacity for thought . You have to think it through . There ’ s no algorithm \n",
      ". You take a look at the situation , think it through , deliberate it with othe\n",
      "gained control of their lives . They think it through and decide . Take the cas\n",
      "ry girls that were called . They did think it through . And we can see what the\n",
      "hierarchy and organization , which I think in many cases , you would call domin\n",
      "om scratch in real time . How do you think about that trade - off between compl\n",
      "iberation ? NOAM CHOMSKY : I don ’ t think it ’ s a trade - off if it ’ s done \n",
      "ry , and constant interaction . So I think there should be participation at all\n",
      " and where you differ from those who think our economy is built on the freedom \n",
      "lled Libertarianism here . I don ’ t think that ’ s the right word . He says , \n",
      "eption . It ’ s not mine . I don ’ t think it ’ s yours . I don ’ t think it ’ \n",
      "n ’ t think it ’ s yours . I don ’ t think it ’ s anybody ’ s frankly , unless \n",
      "None\n",
      "Displaying 25 of 57 matches:\n",
      "and I reread it . And I argued with people over it . And then over the years ,\n",
      "ent . Society is structured so that people will consent to what is in oppositi\n",
      "n sense is imposed in opposition to people ’ s needs and right . EZRA KLEIN : \n",
      " that these wants are beaten out of people as opposed to that their competing \n",
      "t of capitalist structure is making people want things they don ’ t really wan\n",
      "ments that unfortunately are things people really do want and really do embrac\n",
      ", some of them don ’ t . If you get people hooked on cigarettes , the advertis\n",
      " what there ’ s money to try to get people to want , but also what the public \n",
      " lone ranger running around to save people . It was a guy who couldn ’ t get a\n",
      "erated , until it was driven out of people ’ s heads by force and violence . W\n",
      "th others in a free society , where people have access to information , have g\n",
      " could get free of it . The working people held that we should move towards , \n",
      " a cooperative Commonwealth , where people control their own lives . Workers s\n",
      "e questions , by deliberation among people who are putting their minds to work\n",
      " Of course , not . EZRA KLEIN : But people do come to very different answers w\n",
      "wing of socialism . And then I know people who end up being the libertarian wi\n",
      "society . A free society can select people to have administrative and other au\n",
      "e this . The community would select people to carry out this test because they\n",
      "e , distributing a vaccine . Well , people should have to have some say in thi\n",
      "we ’ re back in a system where some people say , well , you got to wear masks \n",
      "ing a business lockdown , and other people say , no , that ’ s an unfair impos\n",
      "e way , that 19th century , working people , factory girls , farmers wanted to\n",
      "ol over marketing and development . People in the service industry should do t\n",
      "on the freedom to contract . And if people freely chose to sign their name to \n",
      "kery . I think the stronger arguing people make for different forms of capital\n",
      "None\n",
      "Displaying 25 of 40 matches:\n",
      "ver received was “ 9 - 11 ” by Noam Chomsky . My older brother gave it to me , \n",
      "e years , I would dip into the Noam Chomsky library . And just always its bread\n",
      "ts breadth is so astonishing . Noam Chomsky , he ’ s written more political boo\n",
      "y at work . And it ’ s still true . Chomsky is 92 , and he ’ s still writing bo\n",
      "n the world . If you just know Noam Chomsky as a symbol of a certain kind of le\n",
      " , there ’ s a deep independence to Chomsky ’ s thinking that I ’ ve always adm\n",
      "a conversation about both the world Chomsky wants us to build in the future and\n",
      "how @ nytimes . com . Here ’ s Noam Chomsky . Let me begin with the base of you\n",
      "ontinue reading the main story NOAM CHOMSKY : Well , there are basically two fu\n",
      "ishing , of what humans want ? NOAM CHOMSKY : One of the striking things about \n",
      "they take those away from us ? NOAM CHOMSKY : Well a lot of it is beaten out of\n",
      "cracy you ’ re talking about . NOAM CHOMSKY : What you ’ re saying is life is c\n",
      "ZRA KLEIN : [ LAUGHS ] There . NOAM CHOMSKY : The relation between you and your\n",
      "versions of this theory hold . NOAM CHOMSKY : Well , I agree with that . These \n",
      " How do you define anarchism ? NOAM CHOMSKY : Anarchism , the way I understand \n",
      "how are those decisions made ? NOAM CHOMSKY : Here , we go back to the first qu\n",
      " complexity and deliberation ? NOAM CHOMSKY : I don ’ t think it ’ s a trade - \n",
      "presentative democracy again ? NOAM CHOMSKY : Representative democracy does not\n",
      "cy ? EZRA KLEIN : Not really . NOAM CHOMSKY : And for very good reasons , and w\n",
      "e word anarchism sounds like . NOAM CHOMSKY : What , would eliminating the job \n",
      "u eliminate the job contract ? NOAM CHOMSKY : By the way , that 19th century , \n",
      "t on the freedom to contract ? NOAM CHOMSKY : Freedom of contract is a joke . T\n",
      " How do you think about that ? NOAM CHOMSKY : I think it ’ s just false . I mea\n",
      " you ’ d like to see us have ? NOAM CHOMSKY : I would like to see the kind of s\n",
      "f social change conservative ? NOAM CHOMSKY : I don ’ t think that meaningful c\n",
      "None\n",
      "Displaying 25 of 37 matches:\n",
      "ok I ever received was “ 9 - 11 ” by Noam Chomsky . My older brother gave it t\n",
      "ver the years , I would dip into the Noam Chomsky library . And just always it\n",
      "ways its breadth is so astonishing . Noam Chomsky , he ’ s written more politi\n",
      "dent in the world . If you just know Noam Chomsky as a symbol of a certain kin\n",
      "kleinshow @ nytimes . com . Here ’ s Noam Chomsky . Let me begin with the base\n",
      "hole Continue reading the main story NOAM CHOMSKY : Well , there are basically\n",
      " flourishing , of what humans want ? NOAM CHOMSKY : One of the striking things\n",
      " like they take those away from us ? NOAM CHOMSKY : Well a lot of it is beaten\n",
      ", democracy you ’ re talking about . NOAM CHOMSKY : What you ’ re saying is li\n",
      "ed . EZRA KLEIN : [ LAUGHS ] There . NOAM CHOMSKY : The relation between you a\n",
      "izing versions of this theory hold . NOAM CHOMSKY : Well , I agree with that .\n",
      "hist . How do you define anarchism ? NOAM CHOMSKY : Anarchism , the way I unde\n",
      "ism , how are those decisions made ? NOAM CHOMSKY : Here , we go back to the f\n",
      "etween complexity and deliberation ? NOAM CHOMSKY : I don ’ t think it ’ s a t\n",
      "ing representative democracy again ? NOAM CHOMSKY : Representative democracy d\n",
      "emocracy ? EZRA KLEIN : Not really . NOAM CHOMSKY : And for very good reasons \n",
      "y , the word anarchism sounds like . NOAM CHOMSKY : What , would eliminating t\n",
      "uld you eliminate the job contract ? NOAM CHOMSKY : By the way , that 19th cen\n",
      "s built on the freedom to contract ? NOAM CHOMSKY : Freedom of contract is a j\n",
      "ward . How do you think about that ? NOAM CHOMSKY : I think it ’ s just false \n",
      "ociety you ’ d like to see us have ? NOAM CHOMSKY : I would like to see the ki\n",
      "view of social change conservative ? NOAM CHOMSKY : I don ’ t think that meani\n",
      " how fast social change can happen ? NOAM CHOMSKY : Well , these things can ha\n",
      "oe Biden ’ s administration so far ? NOAM CHOMSKY : It ’ s a split story . On \n",
      "true in the past ? And if so , why ? NOAM CHOMSKY : Well , first of all , we s\n",
      "None\n",
      "Displaying 25 of 37 matches:\n",
      " anarchism , but not anarchism in the way the word is often used now or just is\n",
      " libertarian wing of socialism , as a way of putting freedom and equality into \n",
      "consciousness . We can use these in a way which is appropriate to situations an\n",
      "imented . You ’ re taught this is the way you ’ re supposed to behave , not oth\n",
      "r survival . It can be used in such a way as to encourage independence , creati\n",
      ", creativity , or it can be used in a way to impose authority and control . The\n",
      "ing cigarettes , saying , this is the way to be a modern woman and so on . And \n",
      " the practice of democracy . It ’ s a way to ensure , as he put it , that the b\n",
      "hism ? NOAM CHOMSKY : Anarchism , the way I understand it , is pretty close to \n",
      "iversity , works pretty much the same way . Maybe a department chair was chosen\n",
      " job contract ? NOAM CHOMSKY : By the way , that 19th century , working people \n",
      "an be handled in civilized ways , the way it is , say , in a happy family or a \n",
      " capitalism or mixed economies in the way we have them now is it the same incen\n",
      "elopment of technology , that ’ s the way it happened . Take , say , the intern\n",
      "doing it to make money . That ’ s the way everything from your children up to a\n",
      "ion among participants . That ’ s the way the industrial system should move acc\n",
      "e ’ re not going to survive any other way — moved from an object of ridicule wa\n",
      "ay — moved from an object of ridicule way off in the margin , right to the legi\n",
      "ng step forward . Well , that ’ s the way changes take place . EZRA KLEIN : I d\n",
      "me the crisis in a perfectly feasible way , lead to a better world . Others hav\n",
      "hat . There ’ s one argument that the way out is not going to be so much for po\n",
      "tion of the environment in a intended way than we have been so far . Where do y\n",
      "mation usually gets thought of in the way you could lose jobs from it . I ’ ve \n",
      "it in an interesting , the optimistic way , that if you could harness the right\n",
      "ics around it , automation could be a way towards a better , more economically \n",
      "None\n"
     ]
    }
   ],
   "source": [
    "concordancefunc(chomskytop5e, chomskyText)"
   ]
  },
  {
   "cell_type": "code",
   "execution_count": 109,
   "id": "acc747e7",
   "metadata": {},
   "outputs": [
    {
     "name": "stdout",
     "output_type": "stream",
     "text": [
      "Displaying 21 of 21 matches:\n",
      "easts , you have a Tiny Inkulinati , like a little marginaliasona , equipped w\n",
      "' in the dialogue that makes it feel like all your opponents and shopkeepers a\n",
      "poses that repeat across the board , like ranged fighters or spearmen , but yo\n",
      "y first . This is narratively tidy - like facing them in battle gives you the \n",
      "attacks , backed up by support magic like binding enemies with weeds to slow t\n",
      "ht . In some respects , combat feels like a natural extension of Luminous ' pr\n",
      "ome combination of both ? What seems like an over - the - top reaction is ofte\n",
      "eel out of place in a Marvel movie . Like all comedy , that ' s subjective , b\n",
      "ed with a mini - boss , while events like Flashbacks and Elimination add diffe\n",
      "fferent twists to combat sequences , like killing all foes in a set time . Acc\n",
      "n a set time . Accessibility options like custom button mapping , adjustable t\n",
      "x , flawed and - even if you don ' t like her dialogue - she feels human . I e\n",
      "dents . \" What business does someone like that have in this part of the city ?\n",
      "echanics so what ' s here feels more like a sidestep than the next giant leap \n",
      "me is thankful , yet this also feels like a step back . Engage ' s story isn '\n",
      "y black - and - white . Tired tropes like an amnesiac protagonist facing an an\n",
      "ard bonus EXP to all surviving units like Shadows of Valentia . However , skir\n",
      " stripped of its school . Activities like fishing and wyvern riding gradually \n",
      "optional . For older fans , it feels like reminiscing with an old friend . Int\n",
      "t the bubblegum pixel - art skyboxes like old Western movie sets , two - dimen\n",
      " cats , and laugh , if you ' re much like me . A Space for the Unbound is quie\n",
      "None\n",
      "Displaying 20 of 20 matches:\n",
      "o \", weaponised . I spent most of my time with Inkulinati ' s Journey Mode , a\n",
      "h cookies . Jokes can wear down over time , but there ' s something affectiona\n",
      "e smartly dressed donkey bards every time I could for their huge area - of - e\n",
      " out every other round . Damage over time effects are also quite aggressively \n",
      "t and accept the season ' s end this time . Instead , she wants to archive the\n",
      " ones and the sketched copy ; by the time I was halfway through the region , t\n",
      "many questions still lingered by the time the credits rolled . You ' ll learn \n",
      "ithout its charms Forspoken takes it time to get over a wobbly start , but the\n",
      " ' s open world , pulling off real - time combos remains stylish , and that fe\n",
      "ces , like killing all foes in a set time . Accessibility options like custom \n",
      "ul upbringing ; she ' s spent a long time feeling unloved and discarded . When\n",
      "g . Unfortunately , this story needs time to get to that ending , and I only f\n",
      "engaging heroes I ' ve seen for some time , even if she shuns that title . Thi\n",
      " shuns that title . This story takes time to get going , and while the writing\n",
      "n inconsequential question . My free time is thankful , yet this also feels li\n",
      "takes remain reversible by rewinding time . You ' ll find some classic touches\n",
      "t , and yes , romance is back . This time , any ally with A - rank support has\n",
      " beyond - beyond in space as much as time - it ' s appropriately awkward at ti\n",
      " sets , two - dimensional and out of time . Here ' s A Space for the Unbound '\n",
      "mething so specific to one place and time feel so universal , with such panach\n",
      "None\n",
      "Displaying 19 of 19 matches:\n",
      "res . It ' s the weird and wonderful world of \" things people drew in the margi\n",
      "tic phrase that marks the end of the world ; well , the end of the world as the\n",
      "of the world ; well , the end of the world as these people know it , anyway . B\n",
      "s Estelle leave Caro and explore the world beneath it , overwhelming her senses\n",
      " come . Will there be birds when the world ends ? I don ' t know ; maybe we sho\n",
      "for lack of trying ; Season ' s lush world is stuffed with secrets , both good \n",
      " around your ears as you soak up the world . The cycling mechanic rarely felt f\n",
      "ame goes for the map , both the in - world ones and the sketched copy ; by the \n",
      "er Scavengers for that . Estelle ' s world unravels with every person you meet \n",
      " up to enemies across Athia ' s open world , pulling off real - time combos rem\n",
      "r some assume . Frey ' s new to this world , she ' s suddenly taking down monst\n",
      "ere ' s a ruined beauty to this open world and plenty of things to do . Frey ca\n",
      " got all these events across an open world and it rarely feels more meaningful \n",
      " upended and she ' s asked to save a world she ' s never known , the pressure h\n",
      "s , it ' s your typical save - the - world premise , but Forspoken equally buil\n",
      " t directly summoning them into this world . Each lord ' s spirit is instead ho\n",
      " , you have a choice . Return to the world map and continue fighting or visit T\n",
      "es a purpose in bedding you into the world and lulling you into a kind of dream\n",
      "ature of A Space for the Unbound ' s world , its gradually swelling , unbearabl\n",
      "None\n",
      "Displaying 18 of 18 matches:\n",
      ". Each side takes it in turns to play one unit - who can move within their rang\n",
      "t , before going to sleep . If all of one side ' s units are asleep , then the \n",
      "fect forced nap , and dreading seeing one on the enemy side knowing my army cou\n",
      "ot complex , its resource exchange is one of the things that keeps me in Journe\n",
      "g back into a fight you might lose is one more tactical exchange : do I want to\n",
      " t a long action - RPG it is at least one worth sticking with once you start - \n",
      ", it doesn ' t stop her from becoming one of the more genuine protagonists I ' \n",
      " personal story about Frey ' s life , one that ultimately resonates . I was int\n",
      "that have in this part of the city ?\" one whispers , while other residents righ\n",
      "isive dialogue , Luminous has created one of the more engaging heroes I ' ve se\n",
      "' ve mostly paid off . Diverging from one of this generation ' s most acclaimed\n",
      "ween modern and classic Fire Emblem - one that needs a more enticing story , pe\n",
      "most famous protagonists are back for one last adventure , each representing a \n",
      "fit a specific personality - the cute one , a fitness fanatic , an alpaca enthu\n",
      "rstacking an already sizable roster . One of my highlights of Fire Emblem Engag\n",
      "matic prologue , which concludes with one of the most memorably upsetting first\n",
      "ing , making something so specific to one place and time feel so universal , wi\n",
      "when it wants to be , with dry little one - liners from townsfolk peppering hum\n",
      "None\n",
      "Displaying 18 of 18 matches:\n",
      "re still worth a look . Fire Emblem Engage review - a sideways step for the se\n",
      "ome bold decisions with Fire Emblem Engage , and I ' d argue they ' ve mostly \n",
      " was always going to be risky , but Engage takes inspiration from older entrie\n",
      " a robust tactical RPG underneath . Engage is impossible to assess without com\n",
      "a singular narrative in Fire Emblem Engage ; there are no branching paths , cr\n",
      " this also feels like a step back . Engage ' s story isn ' t bad by any means \n",
      "often predictable , but Fire Emblem Engage is helped along by some sharp chara\n",
      "ocial bonds . No matter your pick , Engage doesn ' t diverge from the combat b\n",
      "ement feels scaled back , thanks to Engage removing weapon and magic tome dura\n",
      "as impressed by the techincal leaps Engage has made over its predecessor . The\n",
      "e changes , but what truly elevates Engage ' s combat are its Emblems . Units \n",
      "its paired with a ring can select ' Engage ' to channel these ghostly lords , \n",
      "One of my highlights of Fire Emblem Engage comes after each fight when Alear c\n",
      "d adoptable animals for your base . Engage ' s worldbuilding is often subtle b\n",
      " while the Tower of Trials contains Engage ' s only semblance of online multip\n",
      "during combat . This is often where Engage ' s character writing shines , givi\n",
      "these moments provide . Crucially , Engage avoids detailing their history in t\n",
      "e tactical gameplay see Fire Emblem Engage through . This is a fine RPG that f\n",
      "None\n"
     ]
    }
   ],
   "source": [
    "concordancefunc(eurotop5e, euroText)"
   ]
  },
  {
   "cell_type": "code",
   "execution_count": 110,
   "id": "4d615577",
   "metadata": {},
   "outputs": [
    {
     "name": "stdout",
     "output_type": "stream",
     "text": [
      "Displaying 25 of 1038 matches:\n",
      "ate this picture . FADE OUT : MS -- Dorothy stoops down to Toto -- speaks to hi\n",
      "oad to b . g . -- Toto following -- DOROTHY She isn ' t coming yet , Toto . Did\n",
      "Come on , Toto . LS -- Farm yard -- Dorothy enters left b . g . along road -- T\n",
      "Uncle Henry working at Incubator -- DOROTHY Aunt Em ! Aunt Em ! MS -- Aunt Em a\n",
      "ng with baby chicks in incubator -- Dorothy runs in -- speaks to them -- Doroth\n",
      "orothy runs in -- speaks to them -- Dorothy picks up baby chick -- CAMERA TRUCK\n",
      "- CAMERA TRUCKS back as Aunt Em and Dorothy come forward -- Aunt Em puts chick \n",
      " they go to b . g . to incubator -- Dorothy reacts -- Uncle Henry looks at her \n",
      "ERA PANS her to left across yard -- DOROTHY Aunt Em ! AUNT EM Fifty - seven , f\n",
      "EM Fifty - seven , fifty - eight -- DOROTHY Just listen to what Miss Gulch did \n",
      " Gulch did to Toto ! She -- AUNT EM Dorothy , please ! We ' re trying to count \n",
      " trying to count ! Fifty - eight -- DOROTHY Oh , but Aunt Em , she hit him over\n",
      "ikely to lose a lot of our chicks . DOROTHY Oh -- oh , the poor little things .\n",
      " cat every day . AUNT EM Seventy -- Dorothy , please ! DOROTHY Oh , but he does\n",
      "NT EM Seventy -- Dorothy , please ! DOROTHY Oh , but he doesn ' t do it every d\n",
      "na get the sheriff , and -- AUNT EM Dorothy ! Dorothy ! We ' re busy ! DOROTHY \n",
      " sheriff , and -- AUNT EM Dorothy ! Dorothy ! We ' re busy ! DOROTHY Oh -- all \n",
      " Dorothy ! Dorothy ! We ' re busy ! DOROTHY Oh -- all right . MCS - Aunt Em and\n",
      " Hunk sitting on ground by wagon -- Dorothy enters -- comes forward to Zeke -- \n",
      "f . g . -- Hunk enters -- speaks to Dorothy -- Hickory exits right -- PAN left \n",
      "exits right -- PAN left as Hunk and Dorothy go over by wagon -- they speak -- D\n",
      "y go over by wagon -- they speak -- Dorothy exits right -- Hunk hits his finger\n",
      "lucky thing it wasn ' t your head . DOROTHY Zeke , what am I going to do about \n",
      " hogs to get in . HUNK Now lookit , Dorothy , you ain ' t using your head about\n",
      "u didn ' t have any brains at all . DOROTHY I have so got brains . HUNK Well , \n",
      "None\n",
      "Displaying 25 of 512 matches:\n",
      " in the center of cross roads -- a Scarecrow on a pole in the cornfield at righ\n",
      "y whirls about and looks at him -- SCARECROW That way is a very nice way . CS -\n",
      "hat way is a very nice way . CS -- Scarecrow , his arm pointing to right -- CU \n",
      "d that ? CU -- Toto barking at the Scarecrow o . s . -- MLS -- The Scarecrow in\n",
      "he Scarecrow o . s . -- MLS -- The Scarecrow in the field of corn -- Toto barks\n",
      " Toto . Scarecrows .... MLS -- The Scarecrow in field in b . g . -- camera shoo\n",
      "ing past Dorothy in f . g . -- the Scarecrow speaks , points to left with his o\n",
      " arm -- DOROTHY ... don ' t talk . SCARECROW It ' s pleasant down that way , to\n",
      "CU -- Dorothy reacts , watches the Scarecrow o . s . -- speaks to Toto -- looks\n",
      " speaks to Toto -- looks up as the Scarecrow speaks o . s . DOROTHY That ' s fu\n",
      "sn ' t he pointing the other way ? SCARECROW o . s . Of course , people do ....\n",
      " Of course , people do .... MLS -- Scarecrow in field -- shooting past Dorothy \n",
      "ing past Dorothy in f . g . -- the Scarecrow crosses his arms and points in bot\n",
      "s and points in both directions -- SCARECROW ... go both ways ! MCU -- Dorothy \n",
      "the cornfield as she speaks to the Scarecrow -- CAMERA TRUCKS forward -- DOROTH\n",
      "omething , didn ' t you ? CS - The Scarecrow shakes his head , then nods -- MLS\n",
      "s -- MLS -- Dorothy looking at the Scarecrow as he nods his head -- she speaks \n",
      "you make up your mind ? MCU -- The Scarecrow explains -- shows his straw head -\n",
      "xplains -- shows his straw head -- SCARECROW That ' s the trouble . I can ' t m\n",
      "raw . MCS -- Dorothy questions the Scarecrow o . s . in f . g . -- DOROTHY How \n",
      "if you haven ' t got a .... MCU -- Scarecrow speaks to Dorothy o . s . in f . g\n",
      "g . -- DOROTHY o . s . ... brain ? SCARECROW I don ' t know . But some people w\n",
      "d -- speaks as she steps up to the Scarecrow -- CAMERA STARTS forward -- DOROTH\n",
      "ly met properly , have we ? MCU -- Scarecrow -- SCARECROW Why , no . CS -- Doro\n",
      "ly , have we ? MCU -- Scarecrow -- SCARECROW Why , no . CS -- Dorothy curtsies \n",
      "None\n",
      "Displaying 25 of 392 matches:\n",
      " BOOMS up as she stands up by the Tin Man -- Scarecrow comes in from left -- CA\n",
      "the oil can -- DOROTHY Why , it ' s a man ! A man made out of tin ! SCARECROW W\n",
      "can -- DOROTHY Why , it ' s a man ! A man made out of tin ! SCARECROW What ? DO\n",
      "hat ? DOROTHY Yes . Oh -- look -- TIN MAN Oil can ..... Oil can .... DOROTHY Di\n",
      ". DOROTHY Did you say something ? TIN MAN Oil can .... SCARECROW Oil can what ?\n",
      "Scarecrow and Dorothy examine the Tin Man -- he tries to speak -- they oil him \n",
      "e do you want to be oiled first ? TIN MAN My mouth -- my mouth ! SCARECROW He s\n",
      "DOROTHY Yes --- there . CU -- The Tin Man tries to speak -- squeaks out a few s\n",
      "ak -- squeaks out a few sounds -- TIN MAN Mm ..... mm ... mm .... MCS -- Doroth\n",
      "rothy and Scarecrow listen as the Tin Man starts to speak -- Dorothy starts to \n",
      "starts to pull the axe arm of the Tin Man down -- Scarecrow oils him -- TIN MAN\n",
      "Man down -- Scarecrow oils him -- TIN MAN ... m ... m ... my , my , my , my goo\n",
      "rothy lowers the right arm of the Tin Man so that it hangs naturally -- Scarecr\n",
      "crow busy with the oil can -- the Tin Man begins his story -- TIN MAN Oh -- DOR\n",
      "- the Tin Man begins his story -- TIN MAN Oh -- DOROTHY ... Oh , did that hurt \n",
      " DOROTHY ... Oh , did that hurt ? TIN MAN No -- it feels wonderful . I ' ve hel\n",
      " How did you ever get like this ? TIN MAN Oh -- well , about a year ago -- I wa\n",
      "arecrow and Dorothy listen to the Tin Man -- he grows weak -- they work his arm\n",
      "ck for him -- Dorothy raps on the Tin Man ' s chest -- they react -- Tin Man ex\n",
      "in Man ' s chest -- they react -- Tin Man explains , then steps backward toward\n",
      "hen steps backward toward tree -- TIN MAN ... and right in the middle of a chop\n",
      "THY Well , you ' re perfect now . TIN MAN My ... my neck . My ... my neck . Per\n",
      "RECROW Beautiful ! What an echo ! TIN MAN It ' s empty . The tinsmith forgot to\n",
      " DOROTHY AND SCARECROW No heart ? TIN MAN No heart . DOROTHY Oh -- TIN MAN All \n",
      " TIN MAN No heart . DOROTHY Oh -- TIN MAN All hollow . Oh -- CS -- Tin Man fall\n",
      "None\n",
      "Displaying 25 of 384 matches:\n",
      "' ll protect you . Oh , look ! LS -- Lion on fallen tree -- Dorothy -- Scarecr\n",
      " Man in f . g . on brick road -- the lion jumps toward them -- CAMERA TRUCKS b\n",
      " back as they three move back -- the Lion takes two great leaps -- lands on th\n",
      "ad -- Dorothy hides behind tree -- ( Lion growling ) CU -- Lion growling -- CS\n",
      "hind tree -- ( Lion growling ) CU -- Lion growling -- CS -- Scarecrow tremblin\n",
      "- CS -- Scarecrow trembling -- CU -- Lion growling -- CU -- Dorothy looks out \n",
      "s out around tree -- reacts -- CU -- Lion growling -- CS -- Tin Man trembling \n",
      " -- CS -- Tin Man trembling -- CS -- Lion sneers -- CAMERA PANS as he stands o\n",
      "egs -- puts up his paws -- speaks -- LION Put ' em up ! Put ' em .... LS -- Li\n",
      "ON Put ' em up ! Put ' em .... LS -- Lion -- Tin Man and Scarecrow -- Dorothy \n",
      " b . g . -- CAMERA TRUCKS forward -- Lion speaks and gestures -- LION ... up !\n",
      "rward -- Lion speaks and gestures -- LION ... up ! Which one of you first ? I \n",
      "ht you standing on one foot . MCS -- Lion speaks -- CAMERA PANS him to right t\n",
      " to Tin Man -- Dorothy in b . g . -- LION I ' ll fight you with my eyes closed\n",
      "? MCU -- Tin Man trembling -- MCS -- Lion speaks -- CAMERA PANS him left to Sc\n",
      " Dorothy in b . g . watching -- PANS lion to right to Tin Man -- LION Sneaking\n",
      " -- PANS lion to right to Tin Man -- LION Sneaking up on me , eh ? Why ! ( sna\n",
      "- here . Go ' way and let us alone ! LION Oh , scared , huh ? CU -- Dorothy lo\n",
      "ks out from around tree -- reacts -- LION o . s . Afraid , huh ? MCS -- Lion a\n",
      "- LION o . s . Afraid , huh ? MCS -- Lion and Tin Man -- Lion speaks and laugh\n",
      "d , huh ? MCS -- Lion and Tin Man -- Lion speaks and laughs -- CAMERA PANS him\n",
      "t to Scarecrow -- Dorothy in b . g . LION How long can you stay fresh in that \n",
      "CROW Now that ' s getting personal , Lion . MCU -- Tin Man looks o . s . -- sp\n",
      " him a lesson . MCS -- Scarecrow and Lion -- Dorothy in b . g . -- SCARECROW W\n",
      "ow him . CS -- Toto barking -- CU -- Lion snarls -- speaks LION Well , I ' ll \n",
      "None\n",
      "Displaying 25 of 377 matches:\n",
      "s to pick up two apples -- she sees a tin foot -- reacts -- examines it -- CAME\n",
      " and BOOMS up as she stands up by the Tin Man -- Scarecrow comes in from left -\n",
      "hy , it ' s a man ! A man made out of tin ! SCARECROW What ? DOROTHY Yes . Oh -\n",
      "OW What ? DOROTHY Yes . Oh -- look -- TIN MAN Oil can ..... Oil can .... DOROTH\n",
      " .... DOROTHY Did you say something ? TIN MAN Oil can .... SCARECROW Oil can wh\n",
      " -- Scarecrow and Dorothy examine the Tin Man -- he tries to speak -- they oil \n",
      "Where do you want to be oiled first ? TIN MAN My mouth -- my mouth ! SCARECROW \n",
      "... DOROTHY Yes --- there . CU -- The Tin Man tries to speak -- squeaks out a f\n",
      " speak -- squeaks out a few sounds -- TIN MAN Mm ..... mm ... mm .... MCS -- Do\n",
      "- Dorothy and Scarecrow listen as the Tin Man starts to speak -- Dorothy starts\n",
      "thy starts to pull the axe arm of the Tin Man down -- Scarecrow oils him -- TIN\n",
      "Tin Man down -- Scarecrow oils him -- TIN MAN ... m ... m ... my , my , my , my\n",
      "- Dorothy lowers the right arm of the Tin Man so that it hangs naturally -- Sca\n",
      "carecrow busy with the oil can -- the Tin Man begins his story -- TIN MAN Oh --\n",
      "an -- the Tin Man begins his story -- TIN MAN Oh -- DOROTHY ... Oh , did that h\n",
      "h -- DOROTHY ... Oh , did that hurt ? TIN MAN No -- it feels wonderful . I ' ve\n",
      "ss ! How did you ever get like this ? TIN MAN Oh -- well , about a year ago -- \n",
      "- Scarecrow and Dorothy listen to the Tin Man -- he grows weak -- they work his\n",
      "s neck for him -- Dorothy raps on the Tin Man ' s chest -- they react -- Tin Ma\n",
      "he Tin Man ' s chest -- they react -- Tin Man explains , then steps backward to\n",
      " , then steps backward toward tree -- TIN MAN ... and right in the middle of a \n",
      "DOROTHY Well , you ' re perfect now . TIN MAN My ... my neck . My ... my neck .\n",
      " SCARECROW Beautiful ! What an echo ! TIN MAN It ' s empty . The tinsmith forgo\n",
      "rt . DOROTHY AND SCARECROW No heart ? TIN MAN No heart . DOROTHY Oh -- TIN MAN \n",
      "rt ? TIN MAN No heart . DOROTHY Oh -- TIN MAN All hollow . Oh -- CS -- Tin Man \n",
      "None\n"
     ]
    }
   ],
   "source": [
    "concordancefunc(woztop5e, wozText)"
   ]
  },
  {
   "cell_type": "code",
   "execution_count": null,
   "id": "7471342d",
   "metadata": {},
   "outputs": [],
   "source": []
  }
 ],
 "metadata": {
  "kernelspec": {
   "display_name": "Python 3 (ipykernel)",
   "language": "python",
   "name": "python3"
  },
  "language_info": {
   "codemirror_mode": {
    "name": "ipython",
    "version": 3
   },
   "file_extension": ".py",
   "mimetype": "text/x-python",
   "name": "python",
   "nbconvert_exporter": "python",
   "pygments_lexer": "ipython3",
   "version": "3.9.13"
  }
 },
 "nbformat": 4,
 "nbformat_minor": 5
}
